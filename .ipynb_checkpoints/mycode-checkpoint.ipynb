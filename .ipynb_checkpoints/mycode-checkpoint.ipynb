{
 "cells": [
  {
   "cell_type": "markdown",
   "metadata": {},
   "source": [
    "Camera calibration"
   ]
  },
  {
   "cell_type": "code",
   "execution_count": 1,
   "metadata": {
    "collapsed": true
   },
   "outputs": [],
   "source": [
    "import os\n",
    "import numpy as np\n",
    "import cv2\n",
    "import glob\n",
    "import matplotlib\n",
    "import matplotlib.pyplot as plt\n",
    "import pickle\n",
    "%matplotlib inline"
   ]
  },
  {
   "cell_type": "code",
   "execution_count": 2,
   "metadata": {
    "collapsed": false
   },
   "outputs": [
    {
     "name": "stdout",
     "output_type": "stream",
     "text": [
      "Success to find corners: output_images/couners_found/calibration10.jpg\n",
      "Success to find corners: output_images/couners_found/calibration11.jpg\n",
      "Success to find corners: output_images/couners_found/calibration12.jpg\n",
      "Success to find corners: output_images/couners_found/calibration13.jpg\n",
      "Success to find corners: output_images/couners_found/calibration14.jpg\n",
      "Success to find corners: output_images/couners_found/calibration15.jpg\n",
      "Success to find corners: output_images/couners_found/calibration16.jpg\n",
      "Success to find corners: output_images/couners_found/calibration17.jpg\n",
      "Success to find corners: output_images/couners_found/calibration18.jpg\n",
      "Success to find corners: output_images/couners_found/calibration19.jpg\n",
      "Success to find corners: output_images/couners_found/calibration2.jpg\n",
      "Success to find corners: output_images/couners_found/calibration20.jpg\n",
      "Success to find corners: output_images/couners_found/calibration3.jpg\n",
      "Success to find corners: output_images/couners_found/calibration6.jpg\n",
      "Success to find corners: output_images/couners_found/calibration7.jpg\n",
      "Success to find corners: output_images/couners_found/calibration8.jpg\n",
      "Success to find corners: output_images/couners_found/calibration9.jpg\n"
     ]
    }
   ],
   "source": [
    "corners_found_dir='output_images/couners_found/'\n",
    "\n",
    "nx = 9\n",
    "ny = 6\n",
    "\n",
    "# prepare object points, like (0,0,0), (1,0,0), (2,0,0) ....,(6,5,0)\n",
    "objp = np.zeros((ny*nx,3), np.float32)\n",
    "objp[:,:2] = np.mgrid[0:nx, 0:ny].T.reshape(-1,2)\n",
    "\n",
    "# Arrays to store object points and image points from all the images.\n",
    "objpoints = [] # 3d points in real world space\n",
    "imgpoints = [] # 2d points in image plane.\n",
    "\n",
    "# Make a list of calibration images\n",
    "images = glob.glob('camera_cal/calibration*.jpg')\n",
    "\n",
    "# Step through the list and search for chessboard corners\n",
    "for idx, fname in enumerate(images):\n",
    "    img = cv2.imread(fname)\n",
    "    gray = cv2.cvtColor(img, cv2.COLOR_BGR2GRAY)\n",
    "\n",
    "    # Find the chessboard corners\n",
    "    ret, corners = cv2.findChessboardCorners(gray, (nx, ny), None)\n",
    "    \n",
    "    # If found, add object points, image points\n",
    "    if ret == True:\n",
    "        \n",
    "        objpoints.append(objp)\n",
    "        imgpoints.append(corners)\n",
    "\n",
    "        # Draw and display the corners\n",
    "        image_name = os.path.split(fname)[1]\n",
    "        cv2.drawChessboardCorners(img, (nx ,ny), corners, ret)\n",
    "        write_name = corners_found_dir + image_name\n",
    "        cv2.imwrite(write_name, img)\n",
    "        print(\"Success to find corners:\", write_name)\n",
    "\n",
    "cv2.destroyAllWindows()"
   ]
  },
  {
   "cell_type": "code",
   "execution_count": 3,
   "metadata": {
    "collapsed": false
   },
   "outputs": [
    {
     "name": "stdout",
     "output_type": "stream",
     "text": [
      "[[  1.15396093e+03   0.00000000e+00   6.69705359e+02]\n",
      " [  0.00000000e+00   1.14802495e+03   3.85656232e+02]\n",
      " [  0.00000000e+00   0.00000000e+00   1.00000000e+00]]\n",
      "[[ -2.41017968e-01  -5.30720497e-02  -1.15810318e-03  -1.28318544e-04\n",
      "    2.67124303e-02]]\n"
     ]
    }
   ],
   "source": [
    "# Save camera distortion\n",
    "img = cv2.imread('camera_cal/calibration1.jpg')\n",
    "img_size = (img.shape[1], img.shape[0])\n",
    "\n",
    "# Do camera calibration given object points and image points\n",
    "ret, mtx, dist, rvecs, tvecs = cv2.calibrateCamera(objpoints, imgpoints, img_size,None,None)\n",
    "\n",
    "print(mtx)\n",
    "print(dist)\n",
    "# Save the camera calibration result for later use (we won't worry about rvecs / tvecs)\n",
    "dist_pickle = {}\n",
    "dist_pickle[\"mtx\"] = mtx\n",
    "dist_pickle[\"dist\"] = dist\n",
    "pickle.dump( dist_pickle, open( \"camera_dist_pickle.p\", \"wb\" ) )"
   ]
  },
  {
   "cell_type": "code",
   "execution_count": 4,
   "metadata": {
    "collapsed": false
   },
   "outputs": [
    {
     "name": "stdout",
     "output_type": "stream",
     "text": [
      "Save undistorted image: output_images/undistorted/calibration1.jpg\n",
      "Save undistorted image: output_images/undistorted/calibration10.jpg\n",
      "Save undistorted image: output_images/undistorted/calibration11.jpg\n",
      "Save undistorted image: output_images/undistorted/calibration12.jpg\n",
      "Save undistorted image: output_images/undistorted/calibration13.jpg\n",
      "Save undistorted image: output_images/undistorted/calibration14.jpg\n",
      "Save undistorted image: output_images/undistorted/calibration15.jpg\n",
      "Save undistorted image: output_images/undistorted/calibration16.jpg\n",
      "Save undistorted image: output_images/undistorted/calibration17.jpg\n",
      "Save undistorted image: output_images/undistorted/calibration18.jpg\n",
      "Save undistorted image: output_images/undistorted/calibration19.jpg\n",
      "Save undistorted image: output_images/undistorted/calibration2.jpg\n",
      "Save undistorted image: output_images/undistorted/calibration20.jpg\n",
      "Save undistorted image: output_images/undistorted/calibration3.jpg\n",
      "Save undistorted image: output_images/undistorted/calibration4.jpg\n",
      "Save undistorted image: output_images/undistorted/calibration5.jpg\n",
      "Save undistorted image: output_images/undistorted/calibration6.jpg\n",
      "Save undistorted image: output_images/undistorted/calibration7.jpg\n",
      "Save undistorted image: output_images/undistorted/calibration8.jpg\n",
      "Save undistorted image: output_images/undistorted/calibration9.jpg\n",
      "Save undistorted image: output_images/undistorted/straight_lines1.jpg\n",
      "Save undistorted image: output_images/undistorted/straight_lines2.jpg\n",
      "Save undistorted image: output_images/undistorted/test1.jpg\n",
      "Save undistorted image: output_images/undistorted/test2.jpg\n",
      "Save undistorted image: output_images/undistorted/test3.jpg\n",
      "Save undistorted image: output_images/undistorted/test4.jpg\n",
      "Save undistorted image: output_images/undistorted/test5.jpg\n",
      "Save undistorted image: output_images/undistorted/test6.jpg\n"
     ]
    }
   ],
   "source": [
    "# Check undistorted images\n",
    "with open('camera_dist_pickle.p', mode='rb') as f:\n",
    "    dist_pickle = pickle.load(f)\n",
    "    mtx = dist_pickle[\"mtx\"]\n",
    "    dist = dist_pickle[\"dist\"]\n",
    "\n",
    "undistorted_dir='output_images/undistorted/'\n",
    "\n",
    "images = glob.glob('camera_cal/calibration*.jpg')\n",
    "for idx, fname in enumerate(images):\n",
    "    img = cv2.imread(fname)\n",
    "    dst = cv2.undistort(img, mtx, dist, None, mtx)\n",
    "    image_name=os.path.split(fname)[1]\n",
    "    write_name = undistorted_dir+image_name\n",
    "    cv2.imwrite(write_name,dst)\n",
    "    print(\"Save undistorted image:\", write_name)\n",
    "cv2.destroyAllWindows()\n",
    "\n",
    "test_images = glob.glob('test_images/*.jpg')\n",
    "\n",
    "for idx, fname in enumerate(test_images):\n",
    "    img = cv2.imread(fname)\n",
    "    dst = cv2.undistort(img, mtx, dist, None, mtx)\n",
    "    image_name=os.path.split(fname)[1]\n",
    "    write_name = undistorted_dir+image_name\n",
    "    cv2.imwrite(write_name,dst)\n",
    "    print(\"Save undistorted image:\", write_name)\n",
    "cv2.destroyAllWindows()"
   ]
  },
  {
   "cell_type": "code",
   "execution_count": null,
   "metadata": {
    "collapsed": true
   },
   "outputs": [],
   "source": [
    "def undistort(img, mtx, dist):\n",
    "    undist_image = cv2.undistort(img, mtx, dist, None, mtx)\n",
    "    return undist_image\n",
    "\n",
    "def filter_color_and_gradient(img, s_thresh=(120, 255), sx_thresh=(20, 255), l_thresh=(40,255)):\n",
    "    img = np.copy(img)\n",
    "    # Convert to HSV color space and separate the V channel\n",
    "    hsv = cv2.cvtColor(img, cv2.COLOR_RGB2HLS).astype(np.float)\n",
    "    l_channel = hsv[:,:,1]\n",
    "    s_channel = hsv[:,:,2]\n",
    "    # Sobel x\n",
    "    sobelx = cv2.Sobel(l_channel, cv2.CV_64F, 1, 0) # Take the derivative in x\n",
    "    abs_sobelx = np.absolute(sobelx) # Absolute x derivative to accentuate lines away from horizontal\n",
    "    scaled_sobel = np.uint8(255*abs_sobelx/np.max(abs_sobelx))\n",
    "    \n",
    "    # Threshold x gradient\n",
    "    sxbinary = np.zeros_like(scaled_sobel)\n",
    "    sxbinary[(scaled_sobel >= sx_thresh[0]) & (scaled_sobel <= sx_thresh[1])] = 1\n",
    "    \n",
    "    # Threshold saturation\n",
    "    s_binary = np.zeros_like(s_channel)\n",
    "    s_binary[(s_channel >= s_thresh[0]) & (s_channel <= s_thresh[1])] = 1\n",
    "\n",
    "    # Threshold lightness\n",
    "    l_binary = np.zeros_like(l_channel)\n",
    "    l_binary[(l_channel >= l_thresh[0]) & (l_channel <= l_thresh[1])] = 1\n",
    "    \n",
    "    color_binary = np.dstack(( l_binary , sxbinary, s_binary))\n",
    "\n",
    "    binary = np.zeros_like(sxbinary)\n",
    "    binary[(l_binary == 1) & (s_binary == 1) | (sxbinary==1)] = 1\n",
    "    binary = 255*np.dstack((binary,binary,binary)).astype('uint8')            \n",
    "\n",
    "    return binary, color_binary\n",
    "\n",
    "test_images = glob.glob('test_images/test5.jpg')\n",
    "\n",
    "for idx, fname in enumerate(test_images):\n",
    "    image = plt.imread(fname)\n",
    "    undist_image = undistort(image, mtx, dist)\n",
    "    binary,color = filter_color_and_gradient(undist_image)\n",
    "\n",
    "    # Plot the result\n",
    "    fig = plt.figure(figsize=(20, 6))\n",
    "    subplot = fig.add_subplot(1,2,1)\n",
    "    subplot.set_xticks([])\n",
    "    subplot.set_yticks([])\n",
    "    subplot.set_title('Binary', fontsize=30)\n",
    "    subplot.imshow(binary)\n",
    "\n",
    "    subplot2 = fig.add_subplot(1,2,2)\n",
    "    subplot2.set_xticks([])\n",
    "    subplot2.set_yticks([])\n",
    "    subplot2.set_title('Color binary', fontsize=30)\n",
    "    subplot2.imshow(color)\n",
    "    plt.show()"
   ]
  }
 ],
 "metadata": {
  "kernelspec": {
   "display_name": "Python 3",
   "language": "python",
   "name": "python3"
  },
  "language_info": {
   "codemirror_mode": {
    "name": "ipython",
    "version": 3
   },
   "file_extension": ".py",
   "mimetype": "text/x-python",
   "name": "python",
   "nbconvert_exporter": "python",
   "pygments_lexer": "ipython3",
   "version": "3.5.2"
  },
  "widgets": {
   "state": {},
   "version": "1.1.2"
  }
 },
 "nbformat": 4,
 "nbformat_minor": 2
}
